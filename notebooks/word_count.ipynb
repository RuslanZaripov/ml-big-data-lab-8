{
 "cells": [
  {
   "cell_type": "code",
   "execution_count": 6,
   "id": "49b75770",
   "metadata": {},
   "outputs": [
    {
     "name": "stdout",
     "output_type": "stream",
     "text": [
      "Note: you may need to restart the kernel to use updated packages.\n"
     ]
    }
   ],
   "source": [
    "%pip install -q python-dotenv"
   ]
  },
  {
   "cell_type": "code",
   "execution_count": 2,
   "id": "96e72ca8",
   "metadata": {},
   "outputs": [],
   "source": [
    "import os\n",
    "import configparser\n",
    "from pyspark.sql import SparkSession\n",
    "from pyspark.conf import SparkConf\n",
    "from pyspark.sql.functions import split, explode, lower, col\n",
    "from pyspark.ml.feature import StopWordsRemover\n",
    "from dotenv import load_dotenv"
   ]
  },
  {
   "cell_type": "code",
   "execution_count": 3,
   "id": "1e73d36c",
   "metadata": {},
   "outputs": [
    {
     "data": {
      "text/plain": [
       "True"
      ]
     },
     "execution_count": 3,
     "metadata": {},
     "output_type": "execute_result"
    }
   ],
   "source": [
    "load_dotenv()"
   ]
  },
  {
   "cell_type": "code",
   "execution_count": 4,
   "id": "f5524f72",
   "metadata": {},
   "outputs": [
    {
     "data": {
      "text/plain": [
       "('cassandra', '9042', 'mykeyspace', 'user_reviews')"
      ]
     },
     "execution_count": 4,
     "metadata": {},
     "output_type": "execute_result"
    }
   ],
   "source": [
    "KEYSPACE = os.environ[\"CASSANDRA_KEYSPACE\"]\n",
    "IP_ADDRESS = os.environ[\"CASSANDRA_IP_ADDRESS\"]\n",
    "PORT = os.environ[\"CASSANDRA_PORT\"]\n",
    "TABLE = \"user_reviews\"\n",
    "spark_config_apth = 'conf/spark.ini'\n",
    "IP_ADDRESS, PORT, KEYSPACE, TABLE"
   ]
  },
  {
   "cell_type": "code",
   "execution_count": 5,
   "id": "221699bd",
   "metadata": {},
   "outputs": [
    {
     "data": {
      "text/plain": [
       "[('spark.master', 'local[*]'),\n",
       " ('spark.driver.memory', '1g'),\n",
       " ('spark.executor.memory', '1g'),\n",
       " ('spark.executor.instances', '4'),\n",
       " ('spark.sql.execution.arrow.pyspark.enabled', 'true'),\n",
       " ('spark.dynamicAllocation.enabled', 'true'),\n",
       " ('spark.dynamicAllocation.minExecutors', '1'),\n",
       " ('spark.dynamicAllocation.maxExecutors', '6'),\n",
       " ('spark.jars.packages',\n",
       "  'com.datastax.spark:spark-cassandra-connector_2.12:3.5.1'),\n",
       " ('spark.cassandra.input.split.sizeInMB', '32'),\n",
       " ('spark.cassandra.input.fetch.sizeInRows', '1000'),\n",
       " ('spark.cassandra.query.retry.count', '-1')]"
      ]
     },
     "execution_count": 5,
     "metadata": {},
     "output_type": "execute_result"
    }
   ],
   "source": [
    "config = configparser.ConfigParser()\n",
    "config.optionxform=str\n",
    "config.read(spark_config_apth)\n",
    "list(config['spark'].items())"
   ]
  },
  {
   "cell_type": "code",
   "execution_count": 7,
   "id": "b8a6f80c",
   "metadata": {},
   "outputs": [
    {
     "data": {
      "text/plain": [
       "<pyspark.conf.SparkConf at 0x7f4afb68ddd0>"
      ]
     },
     "execution_count": 7,
     "metadata": {},
     "output_type": "execute_result"
    }
   ],
   "source": [
    "conf = SparkConf()\n",
    "conf.setAll(list(config['spark'].items()))"
   ]
  },
  {
   "cell_type": "code",
   "execution_count": 8,
   "id": "3872690b",
   "metadata": {},
   "outputs": [],
   "source": [
    "spark = SparkSession.builder.config(conf=conf) \\\n",
    "    .config(\"spark.cassandra.connection.host\", IP_ADDRESS) \\\n",
    "    .config(\"spark.cassandra.connection.port\", PORT) \\\n",
    "    .getOrCreate()\n",
    "    \n",
    "sc = spark.sparkContext"
   ]
  },
  {
   "cell_type": "code",
   "execution_count": 9,
   "id": "b23c47e6",
   "metadata": {},
   "outputs": [
    {
     "name": "stdout",
     "output_type": "stream",
     "text": [
      "+-----------+-------------------------------+---------+-------------------+----------------------+-----------------------------------------------------------------------------------------------------------------------------------------+\n",
      "|indexcolumn|app                            |sentiment|sentiment_polarity |sentiment_subjectivity|translated_review                                                                                                                        |\n",
      "+-----------+-------------------------------+---------+-------------------+----------------------+-----------------------------------------------------------------------------------------------------------------------------------------+\n",
      "|1810       |95Live -SG#1 Live Streaming App|Neutral  |0.0                |0.4                   |Why aren't women naked? . Give some IDs. . .                                                                                             |\n",
      "|12567      |Barbie Life™                   |Positive |0.1                |0.3                   |For haters know realeased 2014 2018 early days yeesh people                                                                              |\n",
      "|4902       |AirBrush: Easy Photo Editor    |NULL     |NULL               |NULL                  |NULL                                                                                                                                     |\n",
      "|2606       |AC - Tips & News for Android™  |Negative |-0.0555555555555555|0.5555555555555555    |Previously used work better . But crashing  whenever I opening see news closing showing warning  unfortunately stopped working . Fix bug.|\n",
      "|5329       |Alarm Clock Free               |NULL     |NULL               |NULL                  |NULL                                                                                                                                     |\n",
      "+-----------+-------------------------------+---------+-------------------+----------------------+-----------------------------------------------------------------------------------------------------------------------------------------+\n",
      "only showing top 5 rows\n",
      "\n"
     ]
    }
   ],
   "source": [
    "df = spark.read \\\n",
    "    .format(\"org.apache.spark.sql.cassandra\") \\\n",
    "    .options(table=TABLE, keyspace=KEYSPACE) \\\n",
    "    .load()\n",
    "    \n",
    "df.cache().show(5, False)"
   ]
  },
  {
   "cell_type": "code",
   "execution_count": 13,
   "id": "630a7f52",
   "metadata": {},
   "outputs": [
    {
     "data": {
      "text/plain": [
       "DataFrame[indexcolumn: string, app: string, sentiment: string, sentiment_polarity: string, sentiment_subjectivity: string, translated_review: string]"
      ]
     },
     "execution_count": 13,
     "metadata": {},
     "output_type": "execute_result"
    }
   ],
   "source": [
    "df.unpersist()"
   ]
  },
  {
   "cell_type": "code",
   "execution_count": 10,
   "id": "62147d63",
   "metadata": {},
   "outputs": [
    {
     "data": {
      "text/plain": [
       "10"
      ]
     },
     "execution_count": 10,
     "metadata": {},
     "output_type": "execute_result"
    }
   ],
   "source": [
    "df.rdd.getNumPartitions()"
   ]
  },
  {
   "cell_type": "code",
   "execution_count": 11,
   "id": "2d782ce5",
   "metadata": {},
   "outputs": [
    {
     "name": "stdout",
     "output_type": "stream",
     "text": [
      "Number of rows: 64295\n"
     ]
    }
   ],
   "source": [
    "print(\"Number of rows:\", df.count())"
   ]
  },
  {
   "cell_type": "code",
   "execution_count": 12,
   "id": "d8b3488d",
   "metadata": {},
   "outputs": [
    {
     "name": "stdout",
     "output_type": "stream",
     "text": [
      "+------+-----+\n",
      "|  word|count|\n",
      "+------+-----+\n",
      "|      |23013|\n",
      "|  game| 9384|\n",
      "|  like| 5498|\n",
      "|  good| 5271|\n",
      "|   app| 4998|\n",
      "| great| 4810|\n",
      "|   get| 4726|\n",
      "|  love| 4681|\n",
      "|  time| 4538|\n",
      "|really| 3096|\n",
      "|  even| 2883|\n",
      "|   ads| 2661|\n",
      "|     m| 2564|\n",
      "|update| 2536|\n",
      "|  play| 2479|\n",
      "| phone| 2439|\n",
      "|please| 2397|\n",
      "|  work| 2349|\n",
      "|  also| 2339|\n",
      "|  much| 2305|\n",
      "+------+-----+\n",
      "only showing top 20 rows\n",
      "\n"
     ]
    }
   ],
   "source": [
    "# Tokenize the reviews\n",
    "df_words = df.withColumn(\"word\", explode(split(lower(col(\"Translated_Review\")), \"\\\\W+\")))\n",
    "\n",
    "# Remove stop words\n",
    "stop_words = set(StopWordsRemover.loadDefaultStopWords(\"english\"))  # Default English stop words\n",
    "df_filtered = df_words.filter(~df_words.word.isin(stop_words))\n",
    "\n",
    "# Count word frequency\n",
    "word_frequency = df_filtered.groupBy(\"word\").count().orderBy(col(\"count\").desc())\n",
    "\n",
    "# Display the top keywords\n",
    "word_frequency.show()\n",
    "\n",
    "# If you want to get the results in Python\n",
    "keywords_list = word_frequency.rdd.map(lambda row: (row.word, row.count)).collect()\n"
   ]
  },
  {
   "cell_type": "code",
   "execution_count": 13,
   "id": "1088e881",
   "metadata": {},
   "outputs": [],
   "source": [
    "spark.stop()"
   ]
  },
  {
   "cell_type": "code",
   "execution_count": null,
   "id": "ac5af16e",
   "metadata": {},
   "outputs": [],
   "source": []
  }
 ],
 "metadata": {
  "kernelspec": {
   "display_name": "Python 3 (ipykernel)",
   "language": "python",
   "name": "python3"
  }
 },
 "nbformat": 4,
 "nbformat_minor": 5
}
